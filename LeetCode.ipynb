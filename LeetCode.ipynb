{
 "cells": [
  {
   "cell_type": "markdown",
   "metadata": {},
   "source": [
    "#### 2024/9/17 - 884. Uncommon Words from Two Sentences"
   ]
  },
  {
   "cell_type": "code",
   "execution_count": 1,
   "metadata": {},
   "outputs": [
    {
     "data": {
      "text/plain": [
       "['ejz']"
      ]
     },
     "execution_count": 1,
     "metadata": {},
     "output_type": "execute_result"
    }
   ],
   "source": [
    "from collections import Counter\n",
    "def solution(s1, s2):\n",
    "    result = []\n",
    "    dict1 = Counter(s1.split(' '))\n",
    "    dict2 = Counter(s2.split(' '))\n",
    "    for key, value in dict1.items():\n",
    "        if value == 1 and key not in dict2.keys():\n",
    "            result.append(key)\n",
    "\n",
    "    for key, value in dict2.items():\n",
    "        if value == 1 and key not in dict1.keys():\n",
    "            result.append(key)\n",
    "    return result\n",
    "\n",
    "solution(\"s z z z z s\", \"s ejz z\")"
   ]
  },
  {
   "cell_type": "markdown",
   "metadata": {},
   "source": [
    "#### 2024/9/18 - 179. Largest Number"
   ]
  },
  {
   "cell_type": "code",
   "execution_count": 21,
   "metadata": {},
   "outputs": [
    {
     "name": "stdout",
     "output_type": "stream",
     "text": [
      "210\n",
      "9534330\n",
      "0\n"
     ]
    }
   ],
   "source": [
    "def solution(nums):\n",
    "    num_str = [str(num) for num in nums]\n",
    "    num_str.sort(key=lambda a: a * 10, reverse=True)\n",
    "    '''\n",
    "    Python string comparison compares the characters in both strings one by one. When different characters are found, then their Unicode code point values are compared. The character with the lower Unicode value is considered to be smaller.\n",
    "    '''\n",
    "    if num_str[0] == '0': print('0')\n",
    "    else: print(''.join(num_str))\n",
    "\n",
    "solution([10,2])\n",
    "solution([3,30,34,5,9])\n",
    "solution([0,0])"
   ]
  },
  {
   "cell_type": "markdown",
   "metadata": {},
   "source": [
    "#### 2014/09/19 - 241. Different Ways to Add Parentheses"
   ]
  },
  {
   "cell_type": "code",
   "execution_count": 11,
   "metadata": {},
   "outputs": [
    {
     "name": "stdout",
     "output_type": "stream",
     "text": [
      "[2, 0]\n",
      "[-34, -10, -14, -10, 10]\n"
     ]
    }
   ],
   "source": [
    "def solution(expression):\n",
    "    result = []\n",
    "    # Base case\n",
    "    if len(expression) == 0: return result\n",
    "    if len(expression) == 1: return [int(expression)]\n",
    "    if len(expression) == 2 and expression[0].isdigit(): return [int(expression)]\n",
    "\n",
    "    for i, c in enumerate(expression):\n",
    "        if c.isdigit(): continue\n",
    "        leftResults = solution(expression[:i])\n",
    "        rightResults = solution(expression[i + 1:])\n",
    "        for leftValue in leftResults:\n",
    "            for rightValue in rightResults:\n",
    "                if c == '+': result.append(leftValue + rightValue)\n",
    "                elif c == '-': result.append(leftValue - rightValue)\n",
    "                elif c == '*': result.append(leftValue * rightValue)\n",
    "    \n",
    "    return result\n",
    "\n",
    "print(solution(\"2-1-1\"))\n",
    "print(solution(\"2*3-4*5\"))"
   ]
  },
  {
   "cell_type": "markdown",
   "metadata": {},
   "source": [
    "#### 2024/09/20 - 214. Shortest Palindrome"
   ]
  },
  {
   "cell_type": "code",
   "execution_count": 12,
   "metadata": {},
   "outputs": [
    {
     "name": "stdout",
     "output_type": "stream",
     "text": [
      "aaacecaaa\n",
      "dcbabcd\n"
     ]
    }
   ],
   "source": [
    "def solution(s):\n",
    "    length = len(s)\n",
    "    reverse_s = s[::-1]\n",
    "    for i in range(length):\n",
    "        if s[:length - i] == reverse_s[i:]:\n",
    "            return reverse_s[:i] + s\n",
    "    return \"\"\n",
    "\n",
    "print(solution(\"aacecaaa\"))\n",
    "print(solution(\"abcd\"))"
   ]
  },
  {
   "cell_type": "markdown",
   "metadata": {},
   "source": [
    "#### 2024/09/21 - 386. Lexicographical Numbers"
   ]
  },
  {
   "cell_type": "code",
   "execution_count": 17,
   "metadata": {},
   "outputs": [
    {
     "name": "stdout",
     "output_type": "stream",
     "text": [
      "[1, 10, 11, 12, 13, 2, 3, 4, 5, 6, 7, 8, 9]\n",
      "[1, 2]\n",
      "[1, 10, 100, 101, 102, 103, 104, 105, 106, 107, 108, 109, 11, 110, 111, 112, 113, 114, 115, 116, 117, 118, 119, 12, 120, 121, 122, 123, 124, 125, 126, 127, 128, 129, 13, 130, 131, 132, 133, 134, 135, 136, 137, 138, 139, 14, 140, 141, 142, 143, 144, 145, 146, 147, 148, 149, 15, 150, 151, 152, 153, 154, 155, 156, 157, 158, 159, 16, 160, 161, 162, 163, 164, 165, 166, 167, 168, 169, 17, 170, 171, 172, 173, 174, 175, 176, 177, 178, 179, 18, 180, 181, 182, 183, 184, 185, 186, 187, 188, 189, 19, 190, 191, 192, 193, 194, 195, 196, 197, 198, 199, 2, 20, 21, 22, 23, 24, 25, 26, 27, 28, 29, 3, 30, 31, 32, 33, 34, 35, 36, 37, 38, 39, 4, 40, 41, 42, 43, 44, 45, 46, 47, 48, 49, 5, 50, 51, 52, 53, 54, 55, 56, 57, 58, 59, 6, 60, 61, 62, 63, 64, 65, 66, 67, 68, 69, 7, 70, 71, 72, 73, 74, 75, 76, 77, 78, 79, 8, 80, 81, 82, 83, 84, 85, 86, 87, 88, 89, 9, 90, 91, 92, 93, 94, 95, 96, 97, 98, 99]\n"
     ]
    }
   ],
   "source": [
    "def solution(n):\n",
    "    # res = [i for i in range(1, n + 1)]\n",
    "    # res.sort(key=lambda x: str(x))\n",
    "    # return res\n",
    "    res = []\n",
    "    currNum = 1\n",
    "    for _ in range(n):\n",
    "        res.append(currNum)\n",
    "        if currNum * 10 <= n:\n",
    "            currNum *= 10\n",
    "        else:\n",
    "            while currNum % 10 == 9 or currNum >= n:\n",
    "                currNum //= 10\n",
    "            currNum += 1\n",
    "    return res\n",
    "    \n",
    "print(solution(13))\n",
    "print(solution(2))"
   ]
  },
  {
   "cell_type": "markdown",
   "metadata": {},
   "source": [
    "#### 2024/09/22 - 440. K-th Smallest in Lexicographical Order"
   ]
  },
  {
   "cell_type": "code",
   "execution_count": 7,
   "metadata": {},
   "outputs": [
    {
     "name": "stdout",
     "output_type": "stream",
     "text": [
      "5\n",
      "1\n",
      "1\n",
      "1\n",
      "13\n",
      "1\n"
     ]
    }
   ],
   "source": [
    "def solution(n: int, k: int) -> int:\n",
    "    curr = 1\n",
    "    k -= 1\n",
    "    while k > 0:\n",
    "        steps = countSteps(n, curr, curr + 1)\n",
    "        print(steps)\n",
    "        if steps <= k:\n",
    "            curr += 1\n",
    "            k -= steps\n",
    "        else:                                                                                                                                                                                                                                                                                                                                                                                                                                                                      \n",
    "            curr *= 10\n",
    "            k -= 1\n",
    "    return curr\n",
    "def countSteps(n: int, prefix1: int, prefix2: int) -> int:\n",
    "    steps = 0\n",
    "    while prefix1 <= n:\n",
    "        steps += min(n + 1, prefix2) - prefix1\n",
    "        prefix1 *= 10\n",
    "        prefix2 *= 10\n",
    "    return steps\n",
    "\n",
    "print(solution(13, 5))\n",
    "print(solution(1, 1))"
   ]
  },
  {
   "cell_type": "markdown",
   "metadata": {},
   "source": [
    "#### 2024/09/23 - 2707. Extra Characters in a String"
   ]
  },
  {
   "cell_type": "code",
   "execution_count": 1,
   "metadata": {},
   "outputs": [
    {
     "name": "stdout",
     "output_type": "stream",
     "text": [
      "[9, 9, 9, 9, 9, 9, 9, 9, 9]\n",
      "[13, 13, 13, 13, 13, 13, 13, 13, 13, 13, 13, 13, 13]\n"
     ]
    }
   ],
   "source": [
    "def solution(s: str, dictionary: list[str]) -> int:\n",
    "    dp = [len(s)] * len(s)\n",
    "\n",
    "    return dp\n",
    "\n",
    "print(solution(s = \"leetscode\", dictionary = [\"leet\",\"code\",\"leetcode\"]))\n",
    "print(solution(s = \"sayhelloworld\", dictionary = [\"hello\",\"world\"]))"
   ]
  },
  {
   "cell_type": "markdown",
   "metadata": {},
   "source": [
    "#### 2024/09/24 - 3043. Find the Length of the Longest Common Prefix"
   ]
  },
  {
   "cell_type": "code",
   "execution_count": 18,
   "metadata": {},
   "outputs": [
    {
     "name": "stdout",
     "output_type": "stream",
     "text": [
      "3\n",
      "0\n"
     ]
    }
   ],
   "source": [
    "def solution(arr1: list[int], arr2: list[int]) -> int:\n",
    "    arr1_prefix = set()\n",
    "    longest = 0\n",
    "    for val in arr1:\n",
    "        while val not in arr1_prefix and val > 0:\n",
    "            arr1_prefix.add(val)\n",
    "            val //= 10\n",
    "    \n",
    "    for val in arr2:\n",
    "        while val > 0:\n",
    "            if val in arr1_prefix:\n",
    "                longest = max(longest, len(str(val)))\n",
    "                break\n",
    "            val //= 10\n",
    "    return longest\n",
    "\n",
    "print(solution(arr1 = [1,10,100], arr2 = [1000]))\n",
    "print(solution(arr1 = [1,2,3], arr2 = [4,4,4]))"
   ]
  },
  {
   "cell_type": "markdown",
   "metadata": {},
   "source": [
    "#### 2024/09/25 - 2416. Sum of Prefix Scores of Strings"
   ]
  },
  {
   "cell_type": "code",
   "execution_count": 12,
   "metadata": {},
   "outputs": [
    {
     "name": "stdout",
     "output_type": "stream",
     "text": [
      "[5, 4, 3, 2]\n",
      "[4]\n"
     ]
    }
   ],
   "source": [
    "def sumPrefixScores(words: list[str]) -> list[int]:\n",
    "    prefix_freq = {}\n",
    "    result = []\n",
    "    for curr_word in words:\n",
    "        while curr_word != \"\":\n",
    "            if curr_word not in prefix_freq.keys():\n",
    "                prefix_freq[curr_word] = 0\n",
    "            prefix_freq[curr_word] += 1\n",
    "            curr_word = curr_word[:-1]\n",
    "    # print(prefix_freq)\n",
    "\n",
    "    for curr_word in words:\n",
    "        score = 0\n",
    "        while curr_word != \"\":\n",
    "            if curr_word in prefix_freq.keys():\n",
    "                score += prefix_freq[curr_word]\n",
    "            curr_word = curr_word[:-1]\n",
    "        result.append(score)\n",
    "\n",
    "    return result\n",
    "\n",
    "print(sumPrefixScores(words = [\"abc\",\"ab\",\"bc\",\"b\"]))\n",
    "print(sumPrefixScores(words = [\"abcd\"]))"
   ]
  },
  {
   "cell_type": "markdown",
   "metadata": {},
   "source": [
    "#### 2024/09/26 - 729. My Calendar I"
   ]
  },
  {
   "cell_type": "code",
   "execution_count": 55,
   "metadata": {},
   "outputs": [
    {
     "name": "stdout",
     "output_type": "stream",
     "text": [
      "True True False False True False True True True False \n",
      " [(3, 8), (19, 25), (8, 13), (47, 50), (25, 32), (33, 41)]\n"
     ]
    }
   ],
   "source": [
    "from heapq import heappush\n",
    "class MyCalendar:\n",
    "    booked = []\n",
    "    def __init__(self):\n",
    "        self.booked = []\n",
    "        return None\n",
    "    # def book(self, start: int, end: int) -> bool:\n",
    "    #     isDoubleBooked = False\n",
    "    #     if len(self.booked) == 0: \n",
    "    #         self.booked.append([start, end])\n",
    "    #         return True\n",
    "    #     for t1, t2 in self.booked:\n",
    "    #         if (t1 < start and start < t2) or \\\n",
    "    #             (t1 < end and end <= t2) or \\\n",
    "    #             (start <= t1 and t2 <= end):\n",
    "    #             isDoubleBooked = True\n",
    "    #             break\n",
    "    #     if isDoubleBooked:\n",
    "    #         return False\n",
    "    #     self.booked.append([start, end])\n",
    "    #     return True\n",
    "    def book(self, start: int, end: int) -> bool:\n",
    "        for t1, t2 in self.booked:\n",
    "            if start < t2 and end > t1:\n",
    "                return False\n",
    "        heappush(self.booked, (start, end))\n",
    "        return True\n",
    "inputs = [[47,50],[33,41],[39,45],[33,42],[25,32],[26,35],[19,25],[3,8],[8,13],[18,27]]\n",
    "myCalendar = MyCalendar()\n",
    "for start, end in inputs:\n",
    "    print(myCalendar.book(start, end), end=' ')\n",
    "print('\\n',myCalendar.booked)"
   ]
  },
  {
   "cell_type": "markdown",
   "metadata": {},
   "source": [
    "#### 2024/09/27 - 731. My Calendar II"
   ]
  },
  {
   "cell_type": "code",
   "execution_count": 48,
   "metadata": {},
   "outputs": [
    {
     "name": "stdout",
     "output_type": "stream",
     "text": [
      "True True True False True True "
     ]
    }
   ],
   "source": [
    "from heapq import heappush\n",
    "class MyCalendarTwo:\n",
    "\n",
    "    def __init__(self):\n",
    "        self.booked = []\n",
    "        self.doubleBooked = []\n",
    "\n",
    "    def book(self, start: int, end: int) -> bool:\n",
    "        for t1, t2 in self.doubleBooked:\n",
    "            if start < t2 and end > t1:\n",
    "                return False\n",
    "            \n",
    "        for t1, t2 in self.booked:\n",
    "            if start < t2 and end > t1:\n",
    "                new_start = max(t1, start)\n",
    "                new_end = min(t2, end)\n",
    "                heappush(self.doubleBooked, [new_start, new_end])\n",
    "        heappush(self.booked, [start, end])\n",
    "        return True\n",
    "\n",
    "myCalendarTwo = MyCalendarTwo()\n",
    "input = [[10, 20], [50, 60], [10, 40], [5, 15], [5, 10], [25, 55]]\n",
    "for start, end in input:\n",
    "    print(myCalendarTwo.book(start, end), end=\" \")"
   ]
  },
  {
   "cell_type": "code",
   "execution_count": null,
   "metadata": {},
   "outputs": [],
   "source": []
  }
 ],
 "metadata": {
  "kernelspec": {
   "display_name": "Python 3",
   "language": "python",
   "name": "python3"
  },
  "language_info": {
   "codemirror_mode": {
    "name": "ipython",
    "version": 3
   },
   "file_extension": ".py",
   "mimetype": "text/x-python",
   "name": "python",
   "nbconvert_exporter": "python",
   "pygments_lexer": "ipython3",
   "version": "3.10.13"
  },
  "orig_nbformat": 4
 },
 "nbformat": 4,
 "nbformat_minor": 2
}
